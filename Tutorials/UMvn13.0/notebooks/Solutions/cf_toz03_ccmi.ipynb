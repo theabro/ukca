{
 "cells": [
  {
   "cell_type": "markdown",
   "id": "93af6cc4-6651-4ec0-be72-3257e5ba48d7",
   "metadata": {},
   "source": [
    "## Plot comparisons of total column ozone for specific months\n",
    "\n",
    "Plots from the CCMI simulations."
   ]
  },
  {
   "cell_type": "code",
   "execution_count": 1,
   "id": "066bc781-3277-42e8-9a03-ecfcd8253f05",
   "metadata": {},
   "outputs": [],
   "source": [
    "import cf\n",
    "import cfplot as cfp\n",
    "import numpy as np"
   ]
  },
  {
   "cell_type": "code",
   "execution_count": 2,
   "id": "5bc03fa7-26c1-4700-ad21-060f516244f1",
   "metadata": {},
   "outputs": [],
   "source": [
    "# define the locations of the various datasets\n",
    "# CCMI2022 refD1 ensemble\n",
    "ensdata='/home/ubuntu/Tutorials/UMvn13.0/data/toz_Amon_UKESM1-StratTrop_refD1_r?i1p1f2_gn_19600101-20190101.nc'\n",
    "# CCMI1 refC1\n",
    "ccmidata='/home/ubuntu/Tutorials/UMvn13.0/data/toz_monthly_UMUKCA-UCAM_refC1_r1i1p1_*.nc'\n",
    "# UKCA model data from ACSIS project, nudged to ERA5\n",
    "ukcadata='/home/ubuntu/Tutorials/UMvn13.0/data/u-*/apm.pp/*.pp'\n",
    "# Bodeker Scientific TCO dataset - https://www.bodekerscientific.com/data/total-column-ozone\n",
    "# this has been preprocessed into a single file using ncks, ncatted, and ncrcat\n",
    "# for i in `ls *.nc`; do echo $i; ncks -O --mk_rec_dmn time $i $i; done\n",
    "# for i in `ls *.nc`; do echo $i; ncatted -O -a created,global,d,, $i; done\n",
    "# for i in `ls *.nc`; do echo $i; ncatted -O -a units,longitude,o,c,degrees_east $i; done\n",
    "# for i in `ls *.nc`; do echo $i; ncatted -O -a units,latitude,o,c,degrees_north $i; done\n",
    "# ncrcat BSFilledTCO_V3.4.1_????_Monthly.nc ../BSFilledTCO_V3.4.1_Monthly.nc\n",
    "obsdata='/home/ubuntu/Tutorials/UMvn13.0/data/Bodeker_3.4.1/*.nc'\n",
    "# We would like to thank Bodeker Scientific, funded by the New Zealand Deep South National \n",
    "# Science Challenge, for providing the combined NIWA-BS total column ozone database."
   ]
  },
  {
   "cell_type": "code",
   "execution_count": 3,
   "id": "45cfb158-3c2c-4a36-bb8d-5a36c2ec1bd9",
   "metadata": {},
   "outputs": [],
   "source": [
    "# read-in the data\n",
    "# 3x ensemble members for CCMI2022\n",
    "inens=cf.read(ensdata, select='equivalent_thickness_at_stp_of_atmosphere_ozone_content')\n",
    "\n",
    "# 10-year files for CCMI1\n",
    "ccmi=cf.read(ccmidata, select='equivalent_thickness_at_stp_of_atmosphere_ozone_content')[0]"
   ]
  },
  {
   "cell_type": "code",
   "execution_count": null,
   "id": "cc7f6722-6391-43b7-b70d-172bbca51efe",
   "metadata": {},
   "outputs": [],
   "source": [
    "# want to look at the 1995-2005 range, and produce a monthly climatology\n",
    "ccmi_2000 = ccmi.collapse('T: mean within years T: mean over years', within_years=cf.M(), over_years=cf.year(cf.wi(1995, 2005)))\n",
    "\n",
    "# CCMI2022 data is in units of m rather than Dobson units, so will need to convert\n",
    "duconv=1.0e5\n",
    "# ensemble from CCMI2022\n",
    "ens=cf.FieldList()\n",
    "for f in inens:\n",
    "    # convert to DU for this set of data\n",
    "    f.data=f.data/duconv\n",
    "    f.override_units('DU', inplace=True)\n",
    "    # produce the climatology\n",
    "    # this method has an issue with the forecast_period - substitute the units for this aux coordinate\n",
    "    f.coord('forecast_period').override_units(f.coord('time').units,inplace=True)\n",
    "    # need to use 'time' and not 'T' here due to forecast_reference_time aux coord\n",
    "    g=f.collapse('time: mean within years time: mean over years', within_years=cf.M(), over_years=cf.year(cf.wi(1995, 2005)))\n",
    "    # append to new field list\n",
    "    ens.append(g)\n",
    "\n",
    "# calculate ensemble mean\n",
    "s=list(ens[0].data.shape)\n",
    "s.append(len(ens))\n",
    "arr=np.zeros(s)\n",
    "for i in range(len(ens)):\n",
    "    arr[:,:,:,i]=ens[i].array[:,:,:]\n",
    "darr=np.mean(arr,axis=3)\n",
    "ensmean=ens[0].copy()\n",
    "ensmean.data=darr"
   ]
  },
  {
   "cell_type": "code",
   "execution_count": null,
   "id": "520dbc49-e06f-4fdd-89a2-012683c5590e",
   "metadata": {},
   "outputs": [],
   "source": [
    "# choose a month to plot, e.g. March=2, September=8 (python counts from 0)\n",
    "imonth=2"
   ]
  },
  {
   "cell_type": "code",
   "execution_count": null,
   "id": "db61a202-c911-4f70-94a7-0d7e65a73de3",
   "metadata": {},
   "outputs": [],
   "source": [
    "# set the levels to use\n",
    "cfp.levs(min=180, max=440, step=20)"
   ]
  },
  {
   "cell_type": "code",
   "execution_count": null,
   "id": "c781fe13-962d-436e-b633-77ce3330749c",
   "metadata": {},
   "outputs": [],
   "source": [
    "cfp.gopen()\n",
    "cfp.mapset(proj='npstere', boundinglat=30, lon_0=0)\n",
    "# can only do titles for NH plots currently\n",
    "cfp.con(ccmi_2000[imonth,:,:], lines=False, title='CCMI1 Y2000 Climatological Total Column Ozone (DU)')\n",
    "cfp.gclose()"
   ]
  },
  {
   "cell_type": "code",
   "execution_count": null,
   "id": "cd2177a2-1c61-4790-b355-218835c807b0",
   "metadata": {},
   "outputs": [],
   "source": [
    "cfp.gopen()\n",
    "cfp.mapset(proj='npstere', boundinglat=30, lon_0=0)\n",
    "# can only do titles for NH plots currently\n",
    "cfp.con(ensmean[imonth,:,:], lines=False, title='CCMI2022 Y2000 Ensemble Mean Climatological Total Column Ozone (DU)')\n",
    "cfp.gclose()"
   ]
  },
  {
   "cell_type": "code",
   "execution_count": null,
   "id": "0b612a6b-10ea-43b2-8ec3-5629963ca547",
   "metadata": {},
   "outputs": [],
   "source": [
    "# calculate differences for CCMI2022 ensemble members\n",
    "ens_abs=cf.FieldList()\n",
    "ens_pc=cf.FieldList()\n",
    "for f in ens:\n",
    "    # absolute\n",
    "    diff_abs=f.copy()\n",
    "    diff_abs.data=f.data - ensmean.data\n",
    "    ens_abs.append(diff_abs)\n",
    "    # percentage\n",
    "    diff_pc=f.copy()\n",
    "    diff_pc.data=100.0*((f.data - ensmean.data)/f.data)\n",
    "    diff_pc.override_units('%', inplace=True)\n",
    "    ens_pc.append(diff_pc)"
   ]
  },
  {
   "cell_type": "code",
   "execution_count": null,
   "id": "628d1e49-5098-45ad-9363-c1cf91406d05",
   "metadata": {},
   "outputs": [],
   "source": [
    "# reset levels\n",
    "cfp.levs()"
   ]
  },
  {
   "cell_type": "code",
   "execution_count": null,
   "id": "025a7edb-cb1a-4ea6-b878-217a58b0fddb",
   "metadata": {},
   "outputs": [],
   "source": [
    "for f in ens_abs:\n",
    "    cfp.cscale(scale='BlWhRe')\n",
    "    cfp.mapset(proj='npstere', boundinglat=30, lon_0=0)\n",
    "    cfp.con(f[imonth,:,:], lines=False)"
   ]
  },
  {
   "cell_type": "code",
   "execution_count": null,
   "id": "63cc4e9c-ae4c-46cd-8e22-45b2275cbd61",
   "metadata": {},
   "outputs": [],
   "source": [
    "for f in ens_pc:\n",
    "    cfp.cscale(scale='BlWhRe')\n",
    "    cfp.mapset(proj='npstere', boundinglat=30, lon_0=0)\n",
    "    cfp.con(f[imonth,:,:], lines=False)"
   ]
  },
  {
   "cell_type": "code",
   "execution_count": null,
   "id": "49c1faa3-e009-4341-8797-0cb06f9140cc",
   "metadata": {},
   "outputs": [],
   "source": []
  }
 ],
 "metadata": {
  "kernelspec": {
   "display_name": "Python 3 (ipykernel)",
   "language": "python",
   "name": "python3"
  },
  "language_info": {
   "codemirror_mode": {
    "name": "ipython",
    "version": 3
   },
   "file_extension": ".py",
   "mimetype": "text/x-python",
   "name": "python",
   "nbconvert_exporter": "python",
   "pygments_lexer": "ipython3",
   "version": "3.9.12"
  }
 },
 "nbformat": 4,
 "nbformat_minor": 5
}
